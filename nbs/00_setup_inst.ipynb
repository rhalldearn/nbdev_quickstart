{
 "cells": [
  {
   "cell_type": "markdown",
   "id": "f3a49972-af2d-404a-86e4-366624632628",
   "metadata": {},
   "source": [
    "-- Install virtualenv on Python 3.9\n",
    "\n",
    "Add dead-snakes repository:"
   ]
  },
  {
   "cell_type": "code",
   "execution_count": null,
   "id": "9f967b9d-5bc3-43f7-af33-03c5d5a36c64",
   "metadata": {},
   "outputs": [],
   "source": [
    "```shell-script\n",
    "sudo add-apt-repository ppa:deadsnakes/ppa\n",
    "```"
   ]
  },
  {
   "cell_type": "markdown",
   "id": "ea6a45a1-7939-4e0d-a128-367226df4e5a",
   "metadata": {},
   "source": [
    "Install Python 3.9, development package and the specific venv:"
   ]
  },
  {
   "cell_type": "code",
   "execution_count": null,
   "id": "600b79c2-919a-40b1-98cd-37f67caaf871",
   "metadata": {},
   "outputs": [],
   "source": [
    "```shell-script\n",
    "sudo apt install python3.9\n",
    "sudo apt install python3.9-dev\n",
    "sudo apt install python3.9-venv\n",
    "```"
   ]
  },
  {
   "cell_type": "code",
   "execution_count": null,
   "id": "b42cc14e-a4f0-4622-8208-664c95df0fce",
   "metadata": {},
   "outputs": [],
   "source": [
    "Create Python 3.9 virtualenv:"
   ]
  },
  {
   "cell_type": "code",
   "execution_count": null,
   "id": "d8b34968-516c-4692-b4fe-5b56c06c4c4a",
   "metadata": {},
   "outputs": [],
   "source": [
    "```shell-script\n",
    "python3.9 -m venv py39\n",
    "```"
   ]
  },
  {
   "cell_type": "markdown",
   "id": "027ee0af",
   "metadata": {},
   "source": [
    "Install everything from the requirements.txt file\n",
    "(created via pip freeze > requirements.txt)"
   ]
  },
  {
   "cell_type": "code",
   "execution_count": null,
   "id": "57873b30",
   "metadata": {},
   "outputs": [],
   "source": [
    "pip install -r requirements.txt"
   ]
  }
 ],
 "metadata": {
  "kernelspec": {
   "display_name": "python3",
   "language": "python",
   "name": "python3"
  }
 },
 "nbformat": 4,
 "nbformat_minor": 5
}
