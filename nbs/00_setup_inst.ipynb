{
 "cells": [
  {
   "cell_type": "raw",
   "id": "26a2c31c-2a1b-4187-b68f-9dc524c12093",
   "metadata": {},
   "source": [
    "Install virtualenv on Python 3.9\n",
    "\n",
    "Add dead-snakes repository:\n",
    "\n",
    "```shell-script\n",
    "sudo add-apt-repository ppa:deadsnakes/ppa\n",
    "```\n",
    "\n",
    "Install Python 3.9, development package and the specific venv:\n",
    "\n",
    "```shell-script\n",
    "sudo apt install python3.9\n",
    "sudo apt install python3.9-dev\n",
    "sudo apt install python3.9-venv\n",
    "```\n",
    "\n",
    "Create Python 3.9 virtualenv:\n",
    "\n",
    "```shell-script\n",
    "python3.9 -m venv py39\n",
    "```"
   ]
  },
  {
   "cell_type": "markdown",
   "id": "027ee0af",
   "metadata": {},
   "source": [
    "install everything from the requirements.txt file\n",
    "(created via pip freeze > requirements.txt)"
   ]
  },
  {
   "cell_type": "code",
   "execution_count": null,
   "id": "57873b30",
   "metadata": {},
   "outputs": [],
   "source": [
    "pip install -r requirements.txt"
   ]
  }
 ],
 "metadata": {
  "kernelspec": {
   "display_name": "python3",
   "language": "python",
   "name": "python3"
  }
 },
 "nbformat": 4,
 "nbformat_minor": 5
}
